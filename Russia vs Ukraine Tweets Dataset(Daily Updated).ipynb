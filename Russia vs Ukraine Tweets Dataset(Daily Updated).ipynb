{
 "cells": [
  {
   "cell_type": "code",
   "execution_count": 1,
   "id": "cc302730",
   "metadata": {},
   "outputs": [],
   "source": [
    "import pandas as pd\n",
    "import numpy as np\n",
    "import matplotlib.pyplot as plt\n",
    "from nltk.sentiment.vader import SentimentIntensityAnalyzer\n",
    "from wordcloud import WordCloud, STOPWORDS, ImageColorGenerator\n",
    "import nltk\n",
    "import re\n",
    "from nltk.corpus import stopwords\n",
    "import string"
   ]
  },
  {
   "cell_type": "code",
   "execution_count": 2,
   "id": "23f59afd",
   "metadata": {},
   "outputs": [
    {
     "name": "stdout",
     "output_type": "stream",
     "text": [
      "Requirement already satisfied: wordcloud in d:\\anaconda\\lib\\site-packages (1.8.2.2)\n",
      "Requirement already satisfied: pillow in d:\\anaconda\\lib\\site-packages (from wordcloud) (8.4.0)\n",
      "Requirement already satisfied: numpy>=1.6.1 in d:\\anaconda\\lib\\site-packages (from wordcloud) (1.20.3)\n",
      "Requirement already satisfied: matplotlib in d:\\anaconda\\lib\\site-packages (from wordcloud) (3.4.3)\n",
      "Requirement already satisfied: cycler>=0.10 in d:\\anaconda\\lib\\site-packages (from matplotlib->wordcloud) (0.10.0)\n",
      "Requirement already satisfied: pyparsing>=2.2.1 in d:\\anaconda\\lib\\site-packages (from matplotlib->wordcloud) (3.0.4)\n",
      "Requirement already satisfied: kiwisolver>=1.0.1 in d:\\anaconda\\lib\\site-packages (from matplotlib->wordcloud) (1.3.1)\n",
      "Requirement already satisfied: python-dateutil>=2.7 in d:\\anaconda\\lib\\site-packages (from matplotlib->wordcloud) (2.8.2)\n",
      "Requirement already satisfied: six in d:\\anaconda\\lib\\site-packages (from cycler>=0.10->matplotlib->wordcloud) (1.16.0)\n"
     ]
    }
   ],
   "source": [
    "!pip install wordcloud"
   ]
  },
  {
   "cell_type": "code",
   "execution_count": 3,
   "id": "b3991854",
   "metadata": {},
   "outputs": [
    {
     "data": {
      "text/html": [
       "<div>\n",
       "<style scoped>\n",
       "    .dataframe tbody tr th:only-of-type {\n",
       "        vertical-align: middle;\n",
       "    }\n",
       "\n",
       "    .dataframe tbody tr th {\n",
       "        vertical-align: top;\n",
       "    }\n",
       "\n",
       "    .dataframe thead th {\n",
       "        text-align: right;\n",
       "    }\n",
       "</style>\n",
       "<table border=\"1\" class=\"dataframe\">\n",
       "  <thead>\n",
       "    <tr style=\"text-align: right;\">\n",
       "      <th></th>\n",
       "      <th>id</th>\n",
       "      <th>conversation_id</th>\n",
       "      <th>created_at</th>\n",
       "      <th>date</th>\n",
       "      <th>time</th>\n",
       "      <th>timezone</th>\n",
       "      <th>user_id</th>\n",
       "      <th>username</th>\n",
       "      <th>name</th>\n",
       "      <th>place</th>\n",
       "      <th>...</th>\n",
       "      <th>geo</th>\n",
       "      <th>source</th>\n",
       "      <th>user_rt_id</th>\n",
       "      <th>user_rt</th>\n",
       "      <th>retweet_id</th>\n",
       "      <th>reply_to</th>\n",
       "      <th>retweet_date</th>\n",
       "      <th>translate</th>\n",
       "      <th>trans_src</th>\n",
       "      <th>trans_dest</th>\n",
       "    </tr>\n",
       "  </thead>\n",
       "  <tbody>\n",
       "    <tr>\n",
       "      <th>0</th>\n",
       "      <td>1598483154855395328</td>\n",
       "      <td>1598407650110148608</td>\n",
       "      <td>2022-12-02 01:04:17 UTC</td>\n",
       "      <td>2022-12-02</td>\n",
       "      <td>01:04:17</td>\n",
       "      <td>0</td>\n",
       "      <td>1357346674646024194</td>\n",
       "      <td>gryffoyn</td>\n",
       "      <td>Gryffoyn ✡️</td>\n",
       "      <td>NaN</td>\n",
       "      <td>...</td>\n",
       "      <td>NaN</td>\n",
       "      <td>NaN</td>\n",
       "      <td>NaN</td>\n",
       "      <td>NaN</td>\n",
       "      <td>NaN</td>\n",
       "      <td>[{'screen_name': 'charliekirk11', 'name': 'Cha...</td>\n",
       "      <td>NaN</td>\n",
       "      <td>NaN</td>\n",
       "      <td>NaN</td>\n",
       "      <td>NaN</td>\n",
       "    </tr>\n",
       "    <tr>\n",
       "      <th>1</th>\n",
       "      <td>1598483154184331266</td>\n",
       "      <td>1598483154184331266</td>\n",
       "      <td>2022-12-02 01:04:16 UTC</td>\n",
       "      <td>2022-12-02</td>\n",
       "      <td>01:04:16</td>\n",
       "      <td>0</td>\n",
       "      <td>119927179</td>\n",
       "      <td>davidwferrell</td>\n",
       "      <td>David Ferrell</td>\n",
       "      <td>NaN</td>\n",
       "      <td>...</td>\n",
       "      <td>NaN</td>\n",
       "      <td>NaN</td>\n",
       "      <td>NaN</td>\n",
       "      <td>NaN</td>\n",
       "      <td>NaN</td>\n",
       "      <td>[]</td>\n",
       "      <td>NaN</td>\n",
       "      <td>NaN</td>\n",
       "      <td>NaN</td>\n",
       "      <td>NaN</td>\n",
       "    </tr>\n",
       "    <tr>\n",
       "      <th>2</th>\n",
       "      <td>1598483147628638208</td>\n",
       "      <td>1598152584438902784</td>\n",
       "      <td>2022-12-02 01:04:15 UTC</td>\n",
       "      <td>2022-12-02</td>\n",
       "      <td>01:04:15</td>\n",
       "      <td>0</td>\n",
       "      <td>1160951919248117761</td>\n",
       "      <td>ken_braza</td>\n",
       "      <td>Ken Braza</td>\n",
       "      <td>NaN</td>\n",
       "      <td>...</td>\n",
       "      <td>NaN</td>\n",
       "      <td>NaN</td>\n",
       "      <td>NaN</td>\n",
       "      <td>NaN</td>\n",
       "      <td>NaN</td>\n",
       "      <td>[{'screen_name': 'leezeldin', 'name': 'Lee Zel...</td>\n",
       "      <td>NaN</td>\n",
       "      <td>NaN</td>\n",
       "      <td>NaN</td>\n",
       "      <td>NaN</td>\n",
       "    </tr>\n",
       "    <tr>\n",
       "      <th>3</th>\n",
       "      <td>1598483122131460096</td>\n",
       "      <td>1598017144180346881</td>\n",
       "      <td>2022-12-02 01:04:09 UTC</td>\n",
       "      <td>2022-12-02</td>\n",
       "      <td>01:04:09</td>\n",
       "      <td>0</td>\n",
       "      <td>1520858324971167744</td>\n",
       "      <td>adrian86749524</td>\n",
       "      <td>Adrian</td>\n",
       "      <td>NaN</td>\n",
       "      <td>...</td>\n",
       "      <td>NaN</td>\n",
       "      <td>NaN</td>\n",
       "      <td>NaN</td>\n",
       "      <td>NaN</td>\n",
       "      <td>NaN</td>\n",
       "      <td>[{'screen_name': 'connor17383', 'name': 'conno...</td>\n",
       "      <td>NaN</td>\n",
       "      <td>NaN</td>\n",
       "      <td>NaN</td>\n",
       "      <td>NaN</td>\n",
       "    </tr>\n",
       "    <tr>\n",
       "      <th>4</th>\n",
       "      <td>1598483117169311745</td>\n",
       "      <td>1598423123019563009</td>\n",
       "      <td>2022-12-02 01:04:08 UTC</td>\n",
       "      <td>2022-12-02</td>\n",
       "      <td>01:04:08</td>\n",
       "      <td>0</td>\n",
       "      <td>796430551200702464</td>\n",
       "      <td>_whyzguy_</td>\n",
       "      <td>🖤ᴡᴴʏᶻɢᵁʏ🖤</td>\n",
       "      <td>NaN</td>\n",
       "      <td>...</td>\n",
       "      <td>NaN</td>\n",
       "      <td>NaN</td>\n",
       "      <td>NaN</td>\n",
       "      <td>NaN</td>\n",
       "      <td>NaN</td>\n",
       "      <td>[{'screen_name': 'el_sickario', 'name': 'Prest...</td>\n",
       "      <td>NaN</td>\n",
       "      <td>NaN</td>\n",
       "      <td>NaN</td>\n",
       "      <td>NaN</td>\n",
       "    </tr>\n",
       "  </tbody>\n",
       "</table>\n",
       "<p>5 rows × 36 columns</p>\n",
       "</div>"
      ],
      "text/plain": [
       "                    id      conversation_id               created_at  \\\n",
       "0  1598483154855395328  1598407650110148608  2022-12-02 01:04:17 UTC   \n",
       "1  1598483154184331266  1598483154184331266  2022-12-02 01:04:16 UTC   \n",
       "2  1598483147628638208  1598152584438902784  2022-12-02 01:04:15 UTC   \n",
       "3  1598483122131460096  1598017144180346881  2022-12-02 01:04:09 UTC   \n",
       "4  1598483117169311745  1598423123019563009  2022-12-02 01:04:08 UTC   \n",
       "\n",
       "         date      time  timezone              user_id        username  \\\n",
       "0  2022-12-02  01:04:17         0  1357346674646024194        gryffoyn   \n",
       "1  2022-12-02  01:04:16         0            119927179   davidwferrell   \n",
       "2  2022-12-02  01:04:15         0  1160951919248117761       ken_braza   \n",
       "3  2022-12-02  01:04:09         0  1520858324971167744  adrian86749524   \n",
       "4  2022-12-02  01:04:08         0   796430551200702464       _whyzguy_   \n",
       "\n",
       "            name place  ... geo source user_rt_id user_rt retweet_id  \\\n",
       "0    Gryffoyn ✡️   NaN  ... NaN    NaN        NaN     NaN        NaN   \n",
       "1  David Ferrell   NaN  ... NaN    NaN        NaN     NaN        NaN   \n",
       "2      Ken Braza   NaN  ... NaN    NaN        NaN     NaN        NaN   \n",
       "3         Adrian   NaN  ... NaN    NaN        NaN     NaN        NaN   \n",
       "4      🖤ᴡᴴʏᶻɢᵁʏ🖤   NaN  ... NaN    NaN        NaN     NaN        NaN   \n",
       "\n",
       "                                            reply_to  retweet_date  translate  \\\n",
       "0  [{'screen_name': 'charliekirk11', 'name': 'Cha...           NaN        NaN   \n",
       "1                                                 []           NaN        NaN   \n",
       "2  [{'screen_name': 'leezeldin', 'name': 'Lee Zel...           NaN        NaN   \n",
       "3  [{'screen_name': 'connor17383', 'name': 'conno...           NaN        NaN   \n",
       "4  [{'screen_name': 'el_sickario', 'name': 'Prest...           NaN        NaN   \n",
       "\n",
       "  trans_src trans_dest  \n",
       "0       NaN        NaN  \n",
       "1       NaN        NaN  \n",
       "2       NaN        NaN  \n",
       "3       NaN        NaN  \n",
       "4       NaN        NaN  \n",
       "\n",
       "[5 rows x 36 columns]"
      ]
     },
     "execution_count": 3,
     "metadata": {},
     "output_type": "execute_result"
    }
   ],
   "source": [
    "data = pd.read_csv('filename.csv')\n",
    "data.head()"
   ]
  },
  {
   "cell_type": "code",
   "execution_count": 4,
   "id": "b11af58c",
   "metadata": {},
   "outputs": [
    {
     "data": {
      "text/plain": [
       "Index(['id', 'conversation_id', 'created_at', 'date', 'time', 'timezone',\n",
       "       'user_id', 'username', 'name', 'place', 'tweet', 'language', 'mentions',\n",
       "       'urls', 'photos', 'replies_count', 'retweets_count', 'likes_count',\n",
       "       'hashtags', 'cashtags', 'link', 'retweet', 'quote_url', 'video',\n",
       "       'thumbnail', 'near', 'geo', 'source', 'user_rt_id', 'user_rt',\n",
       "       'retweet_id', 'reply_to', 'retweet_date', 'translate', 'trans_src',\n",
       "       'trans_dest'],\n",
       "      dtype='object')"
      ]
     },
     "execution_count": 4,
     "metadata": {},
     "output_type": "execute_result"
    }
   ],
   "source": [
    "data.columns"
   ]
  },
  {
   "cell_type": "code",
   "execution_count": 5,
   "id": "137d441e",
   "metadata": {},
   "outputs": [
    {
     "data": {
      "text/plain": [
       "(10005, 36)"
      ]
     },
     "execution_count": 5,
     "metadata": {},
     "output_type": "execute_result"
    }
   ],
   "source": [
    "data.shape"
   ]
  },
  {
   "cell_type": "code",
   "execution_count": 6,
   "id": "21ed1957",
   "metadata": {},
   "outputs": [
    {
     "data": {
      "text/plain": [
       "id                   int64\n",
       "conversation_id      int64\n",
       "created_at          object\n",
       "date                object\n",
       "time                object\n",
       "timezone             int64\n",
       "user_id              int64\n",
       "username            object\n",
       "name                object\n",
       "place               object\n",
       "tweet               object\n",
       "language            object\n",
       "mentions            object\n",
       "urls                object\n",
       "photos              object\n",
       "replies_count        int64\n",
       "retweets_count       int64\n",
       "likes_count          int64\n",
       "hashtags            object\n",
       "cashtags            object\n",
       "link                object\n",
       "retweet               bool\n",
       "quote_url           object\n",
       "video                int64\n",
       "thumbnail           object\n",
       "near               float64\n",
       "geo                float64\n",
       "source             float64\n",
       "user_rt_id         float64\n",
       "user_rt            float64\n",
       "retweet_id         float64\n",
       "reply_to            object\n",
       "retweet_date       float64\n",
       "translate          float64\n",
       "trans_src          float64\n",
       "trans_dest         float64\n",
       "dtype: object"
      ]
     },
     "execution_count": 6,
     "metadata": {},
     "output_type": "execute_result"
    }
   ],
   "source": [
    "data.dtypes"
   ]
  },
  {
   "cell_type": "code",
   "execution_count": 7,
   "id": "157d1644",
   "metadata": {},
   "outputs": [
    {
     "data": {
      "text/plain": [
       "id                     0\n",
       "conversation_id        0\n",
       "created_at             0\n",
       "date                   0\n",
       "time                   0\n",
       "timezone               0\n",
       "user_id                0\n",
       "username               0\n",
       "name                   0\n",
       "place               9998\n",
       "tweet                  0\n",
       "language               0\n",
       "mentions               0\n",
       "urls                   0\n",
       "photos                 0\n",
       "replies_count          0\n",
       "retweets_count         0\n",
       "likes_count            0\n",
       "hashtags               0\n",
       "cashtags               0\n",
       "link                   0\n",
       "retweet                0\n",
       "quote_url           9271\n",
       "video                  0\n",
       "thumbnail           8710\n",
       "near               10005\n",
       "geo                10005\n",
       "source             10005\n",
       "user_rt_id         10005\n",
       "user_rt            10005\n",
       "retweet_id         10005\n",
       "reply_to               0\n",
       "retweet_date       10005\n",
       "translate          10005\n",
       "trans_src          10005\n",
       "trans_dest         10005\n",
       "dtype: int64"
      ]
     },
     "execution_count": 7,
     "metadata": {},
     "output_type": "execute_result"
    }
   ],
   "source": [
    "data.isna().sum()"
   ]
  },
  {
   "cell_type": "code",
   "execution_count": 8,
   "id": "8610e34b",
   "metadata": {},
   "outputs": [
    {
     "data": {
      "text/html": [
       "<div>\n",
       "<style scoped>\n",
       "    .dataframe tbody tr th:only-of-type {\n",
       "        vertical-align: middle;\n",
       "    }\n",
       "\n",
       "    .dataframe tbody tr th {\n",
       "        vertical-align: top;\n",
       "    }\n",
       "\n",
       "    .dataframe thead th {\n",
       "        text-align: right;\n",
       "    }\n",
       "</style>\n",
       "<table border=\"1\" class=\"dataframe\">\n",
       "  <thead>\n",
       "    <tr style=\"text-align: right;\">\n",
       "      <th></th>\n",
       "      <th>username</th>\n",
       "      <th>tweet</th>\n",
       "      <th>language</th>\n",
       "    </tr>\n",
       "  </thead>\n",
       "  <tbody>\n",
       "    <tr>\n",
       "      <th>0</th>\n",
       "      <td>gryffoyn</td>\n",
       "      <td>@charliekirk11 THE NEW RUSSIA?</td>\n",
       "      <td>en</td>\n",
       "    </tr>\n",
       "    <tr>\n",
       "      <th>1</th>\n",
       "      <td>davidwferrell</td>\n",
       "      <td>The @January6thCmte has done a wonderful job s...</td>\n",
       "      <td>en</td>\n",
       "    </tr>\n",
       "    <tr>\n",
       "      <th>2</th>\n",
       "      <td>ken_braza</td>\n",
       "      <td>@leezeldin Like they say in Russia...it's not ...</td>\n",
       "      <td>en</td>\n",
       "    </tr>\n",
       "    <tr>\n",
       "      <th>3</th>\n",
       "      <td>adrian86749524</td>\n",
       "      <td>@connor17383 @GaworMarkus @ZelenskyyUa Aren't ...</td>\n",
       "      <td>en</td>\n",
       "    </tr>\n",
       "    <tr>\n",
       "      <th>4</th>\n",
       "      <td>_whyzguy_</td>\n",
       "      <td>@el_sickario @brianhugstrees @MarkHamill who's...</td>\n",
       "      <td>en</td>\n",
       "    </tr>\n",
       "    <tr>\n",
       "      <th>...</th>\n",
       "      <td>...</td>\n",
       "      <td>...</td>\n",
       "      <td>...</td>\n",
       "    </tr>\n",
       "    <tr>\n",
       "      <th>10000</th>\n",
       "      <td>lmamtschak</td>\n",
       "      <td>@KyivIndependent Good news! Russia should not ...</td>\n",
       "      <td>en</td>\n",
       "    </tr>\n",
       "    <tr>\n",
       "      <th>10001</th>\n",
       "      <td>crazyheadimp</td>\n",
       "      <td>@Stako_tennis @PTTennis1 Why is it not relevan...</td>\n",
       "      <td>en</td>\n",
       "    </tr>\n",
       "    <tr>\n",
       "      <th>10002</th>\n",
       "      <td>tom17121437</td>\n",
       "      <td>@Gerashchenko_en I always knew this beautiful ...</td>\n",
       "      <td>en</td>\n",
       "    </tr>\n",
       "    <tr>\n",
       "      <th>10003</th>\n",
       "      <td>marxistaportuga</td>\n",
       "      <td>@Culter2000 @AntonDrago71 @calateofacho @Alter...</td>\n",
       "      <td>pt</td>\n",
       "    </tr>\n",
       "    <tr>\n",
       "      <th>10004</th>\n",
       "      <td>swabianbigfella</td>\n",
       "      <td>@EmbassyofRussia @mfa_russia @PMSimferopol @Ru...</td>\n",
       "      <td>qme</td>\n",
       "    </tr>\n",
       "  </tbody>\n",
       "</table>\n",
       "<p>10005 rows × 3 columns</p>\n",
       "</div>"
      ],
      "text/plain": [
       "              username                                              tweet  \\\n",
       "0             gryffoyn                     @charliekirk11 THE NEW RUSSIA?   \n",
       "1        davidwferrell  The @January6thCmte has done a wonderful job s...   \n",
       "2            ken_braza  @leezeldin Like they say in Russia...it's not ...   \n",
       "3       adrian86749524  @connor17383 @GaworMarkus @ZelenskyyUa Aren't ...   \n",
       "4            _whyzguy_  @el_sickario @brianhugstrees @MarkHamill who's...   \n",
       "...                ...                                                ...   \n",
       "10000       lmamtschak  @KyivIndependent Good news! Russia should not ...   \n",
       "10001     crazyheadimp  @Stako_tennis @PTTennis1 Why is it not relevan...   \n",
       "10002      tom17121437  @Gerashchenko_en I always knew this beautiful ...   \n",
       "10003  marxistaportuga  @Culter2000 @AntonDrago71 @calateofacho @Alter...   \n",
       "10004  swabianbigfella  @EmbassyofRussia @mfa_russia @PMSimferopol @Ru...   \n",
       "\n",
       "      language  \n",
       "0           en  \n",
       "1           en  \n",
       "2           en  \n",
       "3           en  \n",
       "4           en  \n",
       "...        ...  \n",
       "10000       en  \n",
       "10001       en  \n",
       "10002       en  \n",
       "10003       pt  \n",
       "10004      qme  \n",
       "\n",
       "[10005 rows x 3 columns]"
      ]
     },
     "execution_count": 8,
     "metadata": {},
     "output_type": "execute_result"
    }
   ],
   "source": [
    "data=data[[\"username\", \"tweet\", \"language\"]]\n",
    "data"
   ]
  },
  {
   "cell_type": "code",
   "execution_count": 9,
   "id": "a7952bdc",
   "metadata": {},
   "outputs": [
    {
     "data": {
      "text/plain": [
       "username    0\n",
       "tweet       0\n",
       "language    0\n",
       "dtype: int64"
      ]
     },
     "execution_count": 9,
     "metadata": {},
     "output_type": "execute_result"
    }
   ],
   "source": [
    "data.isna().sum()"
   ]
  },
  {
   "cell_type": "code",
   "execution_count": 10,
   "id": "f7153d20",
   "metadata": {},
   "outputs": [
    {
     "data": {
      "text/plain": [
       "en     8493\n",
       "pt      434\n",
       "qme     246\n",
       "it      231\n",
       "und     121\n",
       "ru       93\n",
       "ja       71\n",
       "in       58\n",
       "es       51\n",
       "fr       24\n",
       "ca       17\n",
       "fi       15\n",
       "de       14\n",
       "qht      13\n",
       "th       12\n",
       "ar       12\n",
       "nl        9\n",
       "ro        9\n",
       "tl        9\n",
       "vi        9\n",
       "pl        8\n",
       "zh        8\n",
       "tr        5\n",
       "hi        4\n",
       "sv        4\n",
       "cs        4\n",
       "da        4\n",
       "qst       3\n",
       "zxx       3\n",
       "am        3\n",
       "et        3\n",
       "no        3\n",
       "fa        2\n",
       "bn        2\n",
       "ko        2\n",
       "is        1\n",
       "lv        1\n",
       "uk        1\n",
       "sr        1\n",
       "ht        1\n",
       "hu        1\n",
       "Name: language, dtype: int64"
      ]
     },
     "execution_count": 10,
     "metadata": {},
     "output_type": "execute_result"
    }
   ],
   "source": [
    "data['language'].value_counts()"
   ]
  },
  {
   "cell_type": "code",
   "execution_count": 11,
   "id": "0d5cf776",
   "metadata": {},
   "outputs": [
    {
     "name": "stderr",
     "output_type": "stream",
     "text": [
      "[nltk_data] Downloading package stopwords to\n",
      "[nltk_data]     C:\\Users\\User\\AppData\\Roaming\\nltk_data...\n",
      "[nltk_data]   Package stopwords is already up-to-date!\n"
     ]
    },
    {
     "data": {
      "text/plain": [
       "True"
      ]
     },
     "execution_count": 11,
     "metadata": {},
     "output_type": "execute_result"
    }
   ],
   "source": [
    "nltk.download('stopwords')"
   ]
  },
  {
   "cell_type": "code",
   "execution_count": 12,
   "id": "011bcc4e",
   "metadata": {},
   "outputs": [],
   "source": [
    "stemmer = nltk.SnowballStemmer(\"english\")"
   ]
  },
  {
   "cell_type": "code",
   "execution_count": 13,
   "id": "17dae4a8",
   "metadata": {},
   "outputs": [],
   "source": [
    "stopword=set(stopwords.words('english'))"
   ]
  },
  {
   "cell_type": "code",
   "execution_count": 14,
   "id": "c9b41115",
   "metadata": {},
   "outputs": [],
   "source": [
    "def clean(text):\n",
    "    text = str(text).lower()\n",
    "    text = re.sub('\\[.*?\\]', '', text)\n",
    "    text = re.sub('https?://\\S+|www\\.\\S+', '', text)\n",
    "    text = re.sub('<.*?>+', '', text)\n",
    "    text = re.sub('[%s]' % re.escape(string.punctuation), '', text)\n",
    "    text = re.sub('\\n', '', text)\n",
    "    text = re.sub('\\w*\\d\\w*', '', text)\n",
    "    text = [word for word in text.split(' ') if word not in stopword]\n",
    "    text=\" \".join(text)\n",
    "    text = [stemmer.stem(word) for word in text.split(' ')]\n",
    "    text=\" \".join(text)\n",
    "    return text"
   ]
  },
  {
   "cell_type": "code",
   "execution_count": 15,
   "id": "e6a53c91",
   "metadata": {},
   "outputs": [],
   "source": [
    "data[\"tweet\"] = data[\"tweet\"].apply(clean)"
   ]
  },
  {
   "cell_type": "code",
   "execution_count": 16,
   "id": "2166617c",
   "metadata": {},
   "outputs": [
    {
     "data": {
      "text/plain": [
       "0                                               new russia\n",
       "1         done wonder job far  must recommend stiffest ...\n",
       "2        leezeldin like say russiait vote matter count ...\n",
       "3         gawormarkus zelenskyyua arent ukrain amp alli...\n",
       "4        elsickario brianhugstre markhamil whos gonna t...\n",
       "                               ...                        \n",
       "10000    kyivindepend good news russia evacu militari u...\n",
       "10001    stakotenni  relev today live kill merciless ar...\n",
       "10002    gerashchenkoen alway knew beauti song treasur ...\n",
       "10003      calateofacho alterrega isabecarv uma narrati...\n",
       "10004    embassyofrussia mfarussia pmsimferopol rusembu...\n",
       "Name: tweet, Length: 10005, dtype: object"
      ]
     },
     "execution_count": 16,
     "metadata": {},
     "output_type": "execute_result"
    }
   ],
   "source": [
    "data[\"tweet\"]"
   ]
  },
  {
   "cell_type": "code",
   "execution_count": null,
   "id": "e88bf75c",
   "metadata": {},
   "outputs": [],
   "source": []
  },
  {
   "cell_type": "code",
   "execution_count": null,
   "id": "2bc296e2",
   "metadata": {},
   "outputs": [],
   "source": []
  },
  {
   "cell_type": "code",
   "execution_count": null,
   "id": "5d8c3ac8",
   "metadata": {},
   "outputs": [],
   "source": [
    " "
   ]
  }
 ],
 "metadata": {
  "kernelspec": {
   "display_name": "Python 3 (ipykernel)",
   "language": "python",
   "name": "python3"
  },
  "language_info": {
   "codemirror_mode": {
    "name": "ipython",
    "version": 3
   },
   "file_extension": ".py",
   "mimetype": "text/x-python",
   "name": "python",
   "nbconvert_exporter": "python",
   "pygments_lexer": "ipython3",
   "version": "3.9.7"
  }
 },
 "nbformat": 4,
 "nbformat_minor": 5
}
